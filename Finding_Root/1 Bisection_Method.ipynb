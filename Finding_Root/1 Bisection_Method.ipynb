{
 "cells": [
  {
   "cell_type": "markdown",
   "metadata": {},
   "source": [
    "# Solving Nonlinear Equation Using Numerical Approach\n",
    "\n",
    "The nonlinear equation can be defined as an equation that has more than 2 degrees and a maximum of only 2 degrees. There are some types of nonlinear equations, such as quadratic equations, polynomial equations, exponential equations, and trigonometry equations. These equations have their own root(s) that lie in the range of $[a,b]$, it depends on how many degrees an equation has. However, sometimes, a root is not identified in a certain condition of a nonlinear equation. There is a minimum condition if a root exists in a nonlinear equation, which is $f(a) f(b) < 0 $. Solving a root(s) from a nonlinear equation is quite challenging if we meet the complexity of a nonlinear equation. The solution is a numerical method approach. There are some numerical methods that can be used to solve a nonlinear equation, such as Bisection Method, Secant Method, False Position Method, Newton Method, and Fixed Position Method. In this article, I will explain the Bisection Method step by step using Python programming language to solve a root from a non-linear function. Please enjoy :D"
   ]
  },
  {
   "cell_type": "markdown",
   "metadata": {},
   "source": [
    "## Bisection Method\n",
    "The bisection method is the simplest way to solve a root from nonlinear. The idea is by using a range of root which is in $[a,b]$, we split it into two parts that we expect a root from one of a part, we call it midpoint, $c$. This can be applied using the following equation. \n",
    "\n",
    "$c = \\frac{1} {2} (a+b)$\n",
    "\n",
    "where $a$ and $b$ are the lower and upper boundaries respectively. There are some criteria to obtain a root using the bisection method:\n",
    "\n",
    "1. If $f(c) = 0$, the root is $c$.\n",
    "2. However, if $f(c) \\ne 0$, then $f(c)$ has a positive or negative root.\n",
    "3. Because $f(c) \\ne 0$, the root is in one of these conditions: \n",
    "    \n",
    "    3.1 $f(c) f(a) < 0$ or \n",
    "    \n",
    "    3.2 $f(c) f(a) > 0$\n",
    "\n",
    "    If the condition of 3.1 is met, then the root is in this boundary ($[a, c]$). Otherwise, the root is in the boundary of $[c, b]$\n",
    "\n",
    "### Stopping Criteria\n",
    "\n",
    "We set a tolerance value as $tol$ variable. Then, we estimate the number of iterations $N$ using the following equation\n",
    "\n",
    "$N = [log_2 (\\frac {b-a} {tol})]$\n",
    "\n",
    "### Algorithm of Bisection Method\n",
    "\n",
    "1. If the $f(a) f(b) < 0$\n",
    "    1.1. Input an expected interval, $[a,b]$, and $tol$ as tolerance value (e.g. $0.001$)\n",
    "    1.2. Calculate an estimation of maximum iteration, $N = [log_2 \\frac {b-a} {tol}]$\n",
    "    1.3. Calculate the midpoint of this boundary using the equation of $c = \\frac{1} {2} (a+b)$\n",
    "    1.4. If $f(c) f(a) < 0$, update the last boundary of $b = c$.\n",
    "        \n",
    "        Otherwise, if $f(c) f(a) > 0$, update the initial boundary of $a = c$.\n",
    "        \n",
    "        Otherwise, $f(c) = 0$, the root is $c$. Stop the iteration.\n",
    "        \n",
    "    1.5. Then, calculate again the new midpoint as point 3 for the next iteration\n",
    "2. Otherwise, give the information that the root is not identified.\n",
    "\n",
    "### Case 1\n",
    "There is a function of $f(x) = x^2 - 4 = 0$. Find its root using the bisection method. Note, as we know that this function has a root of $-2$ or $2$ (two different signs). Let us try with the initial boundary guess for $a=-5$ and $b=5$.\n"
   ]
  },
  {
   "cell_type": "code",
   "execution_count": 2,
   "metadata": {},
   "outputs": [],
   "source": [
    "import numpy as np\n",
    "import matplotlib.pyplot as plt"
   ]
  },
  {
   "cell_type": "code",
   "execution_count": 3,
   "metadata": {},
   "outputs": [],
   "source": [
    "def function(x):\n",
    "    return x**2 - 4"
   ]
  },
  {
   "cell_type": "code",
   "execution_count": 19,
   "metadata": {},
   "outputs": [],
   "source": [
    "def Bisection(function,a,b,tol=0.0001):\n",
    "    '''\n",
    "    Input:\n",
    "\n",
    "    f: A function\n",
    "\n",
    "    a: lower boundary\n",
    "\n",
    "    b: upper boundary\n",
    "\n",
    "    tol: tolarance of stoping criteria. The default is 0.0001\n",
    "\n",
    "    Output:\n",
    "\n",
    "    a root\n",
    "    '''\n",
    "    # Check the existing root\n",
    "    if function(a) * function(b) < 0:\n",
    "        # Calculate maximum number of iteration\n",
    "        N = round(np.log2((b-a)/tol))\n",
    "        print('Maximum Iteration: %d' % N)\n",
    "\n",
    "        for i in range(N):\n",
    "            # Check the midpoint\n",
    "            c = (a+b)/2\n",
    "            \n",
    "            if (function(a) * function(c)) < 0:\n",
    "                b = c\n",
    "            elif (function(a) * function(c)) > 0:\n",
    "                a = c\n",
    "            elif function(c) == 0:\n",
    "                c = c\n",
    "                break\n",
    "    else:\n",
    "        print ('There is no root in this range. Please input a pair of intial boundary guess.')\n",
    "        c = np.nan\n",
    "    \n",
    "    return c, function(c)"
   ]
  },
  {
   "cell_type": "code",
   "execution_count": 17,
   "metadata": {},
   "outputs": [
    {
     "name": "stdout",
     "output_type": "stream",
     "text": [
      "There is no root in this range. Please input a pair of intial boundary guess.\n",
      "The root is: nan\n",
      "f(r): nan\n"
     ]
    }
   ],
   "source": [
    "a = -5\n",
    "b = 5\n",
    "r, froot = Bisection(function,a,b)\n",
    "print('The root is: %f' % r)\n",
    "print('f(r): %f' % froot)"
   ]
  },
  {
   "cell_type": "markdown",
   "metadata": {},
   "source": [
    "By using this initial boundary guess, the root is not in the range of $[-5, 5]$ because $f(a) . f(b) > 0$ (sometimes it may has a root for this condition). As mentioned above, the root of this function is $-2$ or $2$, it is solved by a simple mathematical process. If we think, it should have a root in the ranges of $[-5, 5]$, but it does not have through this boundary. Then, let us try to update one of the range, e.g. $a=-1$ and $b$ is still the same with the current value, so the update range is $[-1, 5]$"
   ]
  },
  {
   "cell_type": "code",
   "execution_count": 18,
   "metadata": {},
   "outputs": [
    {
     "name": "stdout",
     "output_type": "stream",
     "text": [
      "Maximum Iteration: 16\n",
      "The root is: 2.000000\n",
      "f(r): 0.000000\n"
     ]
    }
   ],
   "source": [
    "a = -1\n",
    "b = 5\n",
    "r, froot = Bisection(function,a,b)\n",
    "print('The root is: %f' % r)\n",
    "print('f(r): %f' % froot)"
   ]
  },
  {
   "cell_type": "markdown",
   "metadata": {},
   "source": [
    "Finally, the root has been found in the positive direction, which is the root is $2$ because $f(2) = 0$ for this function. Because this function has a root in the negative direction as well, let us try to replace the boundary to $[-5, 1]$, which is more narrow to negative direction."
   ]
  },
  {
   "cell_type": "code",
   "execution_count": 7,
   "metadata": {},
   "outputs": [
    {
     "name": "stdout",
     "output_type": "stream",
     "text": [
      "Maximum Iteration: 16\n",
      "The root is: -2.000000\n",
      "f(r): 0.000000\n"
     ]
    }
   ],
   "source": [
    "a = -5\n",
    "b = 1\n",
    "r, froot = Bisection(function,a,b)\n",
    "print('The root is: %f' % r)\n",
    "print('f(r): %f' % froot)"
   ]
  },
  {
   "cell_type": "markdown",
   "metadata": {},
   "source": [
    "The root is $-2$ and the $f(2) = 0$. So, if we plot into a graph it will looks like a figure below"
   ]
  },
  {
   "cell_type": "code",
   "execution_count": 8,
   "metadata": {},
   "outputs": [
    {
     "data": {
      "text/plain": [
       "Text(0.5, 1.0, 'Bisection Method')"
      ]
     },
     "execution_count": 8,
     "metadata": {},
     "output_type": "execute_result"
    },
    {
     "data": {
      "image/png": "[encoded data removed]",
      "text/plain": [
       "<Figure size 500x500 with 1 Axes>"
      ]
     },
     "metadata": {},
     "output_type": "display_data"
    }
   ],
   "source": [
    "x = np.linspace(a,b,1000)\n",
    "fx = function(x)\n",
    "fig, ax = plt.subplots(figsize=(5,5))\n",
    "ax.plot(x,fx, label='Function')\n",
    "ax.plot(r,froot, marker='.', markersize=10, label='Root')\n",
    "ax.set_axisbelow(True)\n",
    "plt.grid()\n",
    "plt.legend()\n",
    "plt.title('Bisection Method')\n"
   ]
  },
  {
   "cell_type": "markdown",
   "metadata": {},
   "source": [
    "From this case, we can conclude that the presence of root tends to one direction (positive or negative). If we set the initial boundary too wide, it could be hard to find the root."
   ]
  },
  {
   "cell_type": "markdown",
   "metadata": {},
   "source": [
    "### Case 2\n",
    "\n",
    "There is a function of $f(x) = x^2 + 4x + 4 = 0$. Find its root!."
   ]
  },
  {
   "cell_type": "code",
   "execution_count": 9,
   "metadata": {},
   "outputs": [],
   "source": [
    "def function2(x):\n",
    "    return x**2 + 4*x + 4"
   ]
  },
  {
   "cell_type": "markdown",
   "metadata": {},
   "source": [
    "Let us try with the narrow initial guess boundaries, which are $a=-5$ and $b=1$. In fact, by using the analytical method, the function of $f(x) = x^2 + 4x + 4 = (x + 2)^2$ has the double roots of $-2$ with the same sign. Hence, we expect the root lies in this range because the $-2$ in this interval."
   ]
  },
  {
   "cell_type": "code",
   "execution_count": 15,
   "metadata": {},
   "outputs": [
    {
     "name": "stdout",
     "output_type": "stream",
     "text": [
      "There is no root in this range. Please input a pair of intial boundary guess.\n",
      "The root is: nan\n",
      "f(r): nan\n"
     ]
    }
   ],
   "source": [
    "a = -5\n",
    "b = 1\n",
    "r2, froot2 = Bisection(function2,a,b)\n",
    "print('The root is: %f' % r2)\n",
    "print('f(r): %f' % froot2)"
   ]
  },
  {
   "cell_type": "markdown",
   "metadata": {},
   "source": [
    "Unfortunately, the root is not found. In this case, we can conclude that the bisection method is not capable of finding a root from a function that has double roots. The solution is, that we can use another numerical method to find the root."
   ]
  }
 ],
 "metadata": {
  "kernelspec": {
   "display_name": "Python 3",
   "language": "python",
   "name": "python3"
  },
  "language_info": {
   "codemirror_mode": {
    "name": "ipython",
    "version": 3
   },
   "file_extension": ".py",
   "mimetype": "text/x-python",
   "name": "python",
   "nbconvert_exporter": "python",
   "pygments_lexer": "ipython3",
   "version": "3.8.10"
  }
 },
 "nbformat": 4,
 "nbformat_minor": 2
}
